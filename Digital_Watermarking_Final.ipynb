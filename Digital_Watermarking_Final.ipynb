{
  "nbformat": 4,
  "nbformat_minor": 0,
  "metadata": {
    "colab": {
      "provenance": []
    },
    "kernelspec": {
      "name": "python3",
      "display_name": "Python 3"
    },
    "language_info": {
      "name": "python"
    }
  },
  "cells": [
    {
      "cell_type": "code",
      "source": [
        "!pip install zxing\n",
        "!pip install qrcode"
      ],
      "metadata": {
        "id": "OdTvel9l9YIO",
        "colab": {
          "base_uri": "https://localhost:8080/"
        },
        "outputId": "2233668e-acc9-4b33-e0db-e57e8c410d8a"
      },
      "execution_count": null,
      "outputs": [
        {
          "output_type": "stream",
          "name": "stdout",
          "text": [
            "Collecting zxing\n",
            "  Downloading zxing-1.0-py3-none-any.whl (680 kB)\n",
            "\u001b[2K     \u001b[90m━━━━━━━━━━━━━━━━━━━━━━━━━━━━━━━━━━━━━━━━\u001b[0m \u001b[32m680.1/680.1 kB\u001b[0m \u001b[31m6.6 MB/s\u001b[0m eta \u001b[36m0:00:00\u001b[0m\n",
            "\u001b[?25hInstalling collected packages: zxing\n",
            "Successfully installed zxing-1.0\n",
            "Collecting qrcode\n",
            "  Downloading qrcode-7.4.2-py3-none-any.whl (46 kB)\n",
            "\u001b[2K     \u001b[90m━━━━━━━━━━━━━━━━━━━━━━━━━━━━━━━━━━━━━━━━\u001b[0m \u001b[32m46.2/46.2 kB\u001b[0m \u001b[31m1.5 MB/s\u001b[0m eta \u001b[36m0:00:00\u001b[0m\n",
            "\u001b[?25hRequirement already satisfied: typing-extensions in /usr/local/lib/python3.10/dist-packages (from qrcode) (4.5.0)\n",
            "Collecting pypng (from qrcode)\n",
            "  Downloading pypng-0.20220715.0-py3-none-any.whl (58 kB)\n",
            "\u001b[2K     \u001b[90m━━━━━━━━━━━━━━━━━━━━━━━━━━━━━━━━━━━━━━━━\u001b[0m \u001b[32m58.1/58.1 kB\u001b[0m \u001b[31m5.4 MB/s\u001b[0m eta \u001b[36m0:00:00\u001b[0m\n",
            "\u001b[?25hInstalling collected packages: pypng, qrcode\n",
            "Successfully installed pypng-0.20220715.0 qrcode-7.4.2\n"
          ]
        }
      ]
    },
    {
      "cell_type": "code",
      "metadata": {
        "id": "UpGNvdDuJRFm"
      },
      "source": [
        "import cv2\n",
        "import numpy as np\n",
        "import types\n",
        "from google.colab.patches import cv2_imshow\n",
        "from google.colab import drive\n",
        "import base64\n",
        "import qrcode\n",
        "import numpy as np\n",
        "import os\n",
        "import zxing\n",
        "from cryptography.hazmat.backends import default_backend\n",
        "from cryptography.hazmat.primitives import serialization\n",
        "from cryptography.hazmat.primitives.asymmetric import rsa\n",
        "from cryptography.hazmat.primitives import hashes\n",
        "from cryptography.hazmat.primitives.asymmetric import padding\n",
        "import cv2"
      ],
      "execution_count": null,
      "outputs": []
    },
    {
      "cell_type": "code",
      "source": [
        "# Constants for file paths\n",
        "PRIVATE_KEY_FILE_PATH = \"recipient_private_key.pem\"\n",
        "PUBLIC_KEY_FILE_PATH = \"recipient_public_key.pem\""
      ],
      "metadata": {
        "id": "r5ZKEGx46k95"
      },
      "execution_count": null,
      "outputs": []
    },
    {
      "cell_type": "code",
      "source": [
        "# Function to convert base64 encoding back to an image\n",
        "def base64_to_image(base64_str, output_path):\n",
        "    image_bytes = base64.b64decode(base64_str)\n",
        "    image_nparr = np.frombuffer(image_bytes, np.uint8)\n",
        "    image = cv2.imdecode(image_nparr, cv2.IMREAD_COLOR)\n",
        "    cv2.imwrite(output_path, image)\n",
        "    return output_path"
      ],
      "metadata": {
        "id": "u-iLNViG6o4U"
      },
      "execution_count": null,
      "outputs": []
    },
    {
      "cell_type": "code",
      "source": [
        "# Function to convert an image to base64 encoding\n",
        "def image_to_base64(img_path, resize_dim=(25, 25)):\n",
        "\n",
        "    image = cv2.imread(img_path)\n",
        "    image_resized = cv2.resize(image, resize_dim)\n",
        "\n",
        "    # Convert the image to base64\n",
        "    _, buffer = cv2.imencode('.jpg', image_resized)\n",
        "    image_base64 = base64.b64encode(buffer).decode('utf-8')\n",
        "\n",
        "    return image_base64"
      ],
      "metadata": {
        "id": "7JcUpW5r6m6o"
      },
      "execution_count": null,
      "outputs": []
    },
    {
      "cell_type": "code",
      "source": [
        "# Function to generate an RSA key pair\n",
        "def generate_rsa_key_pair():\n",
        "    private_key = rsa.generate_private_key(\n",
        "        public_exponent=65537,\n",
        "        key_size=2048,\n",
        "        backend=default_backend()\n",
        "    )\n",
        "    public_key = private_key.public_key()\n",
        "    return private_key, public_key"
      ],
      "metadata": {
        "id": "OnflaOGt6sdP"
      },
      "execution_count": null,
      "outputs": []
    },
    {
      "cell_type": "code",
      "source": [
        "# Function to generate an RSA key pair and save to disk\n",
        "def generate_and_save_rsa_key_pair():\n",
        "    private_key = rsa.generate_private_key(\n",
        "        public_exponent=65537,\n",
        "        key_size=2048,\n",
        "        backend=default_backend()\n",
        "    )\n",
        "    public_key = private_key.public_key()\n",
        "\n",
        "    # Save private key to file\n",
        "    with open(PRIVATE_KEY_FILE_PATH, \"wb\") as key_file:\n",
        "        key_file.write(private_key.private_bytes(\n",
        "            encoding=serialization.Encoding.PEM,\n",
        "            format=serialization.PrivateFormat.PKCS8,\n",
        "            encryption_algorithm=serialization.NoEncryption()\n",
        "        ))\n",
        "\n",
        "    # Save public key to file\n",
        "    with open(PUBLIC_KEY_FILE_PATH, \"wb\") as key_file:\n",
        "        key_file.write(public_key.public_bytes(\n",
        "            encoding=serialization.Encoding.PEM,\n",
        "            format=serialization.PublicFormat.SubjectPublicKeyInfo\n",
        "        ))\n",
        "\n",
        "    return private_key, public_key\n"
      ],
      "metadata": {
        "id": "pyNJvuhK6wIf"
      },
      "execution_count": null,
      "outputs": []
    },
    {
      "cell_type": "code",
      "source": [
        "\n",
        "def load_rsa_key_pair_from_disk():\n",
        "    # Load private key from file\n",
        "    with open(PRIVATE_KEY_FILE_PATH, \"rb\") as key_file:\n",
        "        private_key = serialization.load_pem_private_key(\n",
        "            key_file.read(),\n",
        "            password=None,\n",
        "            backend=default_backend()\n",
        "        )\n",
        "\n",
        "    # Load public key from file\n",
        "    with open(PUBLIC_KEY_FILE_PATH, \"rb\") as key_file:\n",
        "        public_key = serialization.load_pem_public_key(\n",
        "            key_file.read(),\n",
        "            backend=default_backend()\n",
        "        )\n",
        "\n",
        "    return private_key, public_key"
      ],
      "metadata": {
        "id": "I8Uvi6TV604j"
      },
      "execution_count": null,
      "outputs": []
    },
    {
      "cell_type": "code",
      "source": [
        "# Function to encrypt a message with the recipient's public key\n",
        "def encrypt_message(message, recipient_public_key):\n",
        "    ciphertext = recipient_public_key.encrypt(\n",
        "        message.encode('utf-8'),\n",
        "        padding.OAEP(\n",
        "            mgf=padding.MGF1(algorithm=hashes.SHA256()),\n",
        "            algorithm=hashes.SHA256(),\n",
        "            label=None\n",
        "        )\n",
        "    )\n",
        "    return base64.b64encode(ciphertext).decode('utf-8')"
      ],
      "metadata": {
        "id": "TtOk2TxA637D"
      },
      "execution_count": null,
      "outputs": []
    },
    {
      "cell_type": "code",
      "source": [
        "# Function to create a QR code from a message\n",
        "def generate_qr_code(message, filename):\n",
        "    qr = qrcode.QRCode(\n",
        "        version=None,\n",
        "        error_correction=qrcode.constants.ERROR_CORRECT_L,\n",
        "        box_size=10,\n",
        "        border=4,\n",
        "    )\n",
        "    qr.add_data(message)\n",
        "    qr.make(fit=True)\n",
        "    qr_img_path = filename\n",
        "    qr_img = qr.make_image(fill_color=\"black\", back_color=\"white\")\n",
        "    qr_img.save(qr_img_path)\n",
        "    return qr_img_path"
      ],
      "metadata": {
        "id": "zVq0ZK4P7Hbb"
      },
      "execution_count": null,
      "outputs": []
    },
    {
      "cell_type": "code",
      "source": [
        "# function to embed the image within the QR code\n",
        "def generate_qr_code_with_image(message, image_path, filename):\n",
        "    image_base64 = image_to_base64(image_path)\n",
        "    combined_data = image_base64 + \"|||\" + message  # Use a separator to differentiate the image and message\n",
        "    return generate_qr_code(combined_data, filename)"
      ],
      "metadata": {
        "id": "GNvbU9Ii7JrV"
      },
      "execution_count": null,
      "outputs": []
    },
    {
      "cell_type": "code",
      "source": [
        "# Function to read QR code from an image file and return the decoded data\n",
        "def decode_qr_with_zxing(image_path):\n",
        "    reader = zxing.BarCodeReader()\n",
        "    barcode = reader.decode(image_path)\n",
        "    if barcode is not None:\n",
        "        return barcode.raw\n",
        "    return None\n"
      ],
      "metadata": {
        "id": "91yD6HlG7LuG"
      },
      "execution_count": null,
      "outputs": []
    },
    {
      "cell_type": "code",
      "source": [
        "# function to extract the image and message from the QR code\n",
        "def decode_qr_code_with_image(filename):\n",
        "    decoded_data = decode_qr_with_zxing(filename)\n",
        "    # print(decoded_data.count(\"|||\"))\n",
        "    if \"|||\" not in decoded_data:\n",
        "        raise ValueError(\"The decoded data does not contain the expected separator.\")\n",
        "    image_base64, encrypted_message = decoded_data.split(\"|||\")  # Use the separator to split the data\n",
        "    image_path = base64_to_image(image_base64, \"extracted_watermark_image.png\")\n",
        "    return image_path, encrypted_message"
      ],
      "metadata": {
        "id": "io3thhlI7Q3J"
      },
      "execution_count": null,
      "outputs": []
    },
    {
      "cell_type": "code",
      "source": [
        "# Function to decrypt a message with the recipient's private key\n",
        "def decrypt_message(encrypted_message_base64, recipient_private_key):\n",
        "    ciphertext = base64.b64decode(encrypted_message_base64)\n",
        "    plaintext = recipient_private_key.decrypt(\n",
        "        ciphertext,\n",
        "        padding.OAEP(\n",
        "            mgf=padding.MGF1(algorithm=hashes.SHA256()),\n",
        "            algorithm=hashes.SHA256(),\n",
        "            label=None\n",
        "        )\n",
        "    )\n",
        "    return plaintext.decode('utf-8')"
      ],
      "metadata": {
        "id": "ia9B1UIe7TU-"
      },
      "execution_count": null,
      "outputs": []
    },
    {
      "cell_type": "code",
      "metadata": {
        "id": "VvzhQ4e8Mtaj"
      },
      "source": [
        "#to convert the different types into binary\n",
        "def messageToBinary(message):\n",
        "  if (isinstance(message, str)):\n",
        "    return ''.join([format(ord(i),'08b') for i in message])\n",
        "  elif (isinstance(message, bytes) or isinstance(message, np.ndarray)):\n",
        "    return [format(i,'08b') for i in message]\n",
        "  elif (isinstance(message, int) or isinstance(message, np.uint8)):\n",
        "    return format(message,'08b')\n",
        "  else:\n",
        "    raise TypeError('Input Type Not Supported')"
      ],
      "execution_count": null,
      "outputs": []
    },
    {
      "cell_type": "code",
      "metadata": {
        "id": "HQ9Zh-zNMvFR"
      },
      "source": [
        "#to hide secret msg into image\n",
        "def hideData(image,secret_message):\n",
        "\n",
        "  #maximum bytes to encode\n",
        "  n_bytes = image.shape[0] * image.shape[1] * 3 // 8\n",
        "  print('Maximum bytes to encode:',n_bytes)\n",
        "\n",
        "  #if the number of bytes to encode is less than the maximum bytes in the image\n",
        "  if (len(secret_message) > n_bytes):\n",
        "    raise ValueError('Error encountered insufficient bytes, need bigger image or less data!!')\n",
        "  secret_message += '#####' #string as a delimeter/separator\n",
        "  data_index = 0\n",
        "\n",
        "  #convert input data to binary format using messageToBinary()\n",
        "  binary_secret_msg = messageToBinary(secret_message)\n",
        "  data_len = len(binary_secret_msg)\n",
        "  print(data_len)\n",
        "\n",
        "  for values in image:\n",
        "    for pixel in values:\n",
        "      #convert rgb values to binary format\n",
        "      r, g, b  = messageToBinary(pixel)\n",
        "\n",
        "      #modify the lsb only if there is\n",
        "      if (data_index < data_len):\n",
        "        #hide the data into lsb of red pixel\n",
        "        pixel[0] = int (r[:-1] + binary_secret_msg[data_index], 2)\n",
        "        data_index += 1\n",
        "      if (data_index < data_len):\n",
        "        #hide the data into lsb of green pixel\n",
        "        pixel[1] = int (g[:-1] + binary_secret_msg[data_index], 2)\n",
        "        data_index += 1\n",
        "      if (data_index < data_len):\n",
        "        #hide the data into lsb of blue pixel\n",
        "        pixel[2] = int (b[:-1] + binary_secret_msg[data_index], 2)\n",
        "        data_index += 1\n",
        "\n",
        "      #if all data is embedded\n",
        "      if (data_index >= data_len):\n",
        "        break\n",
        "  # print(data_index)\n",
        "  return image"
      ],
      "execution_count": null,
      "outputs": []
    },
    {
      "cell_type": "code",
      "metadata": {
        "id": "XCswxyTYMvG-"
      },
      "source": [
        "def showData(image):\n",
        "  binary_data = ''\n",
        "  for values in image:\n",
        "    for pixel in values:\n",
        "      r, g, b = messageToBinary(pixel) #convert the red, green and blue values intpo binary format\n",
        "      binary_data += r[-1] #extracting data from the lsb of red pixel\n",
        "      binary_data += g[-1] #extraxting data from the lsb of green pixel\n",
        "      binary_data += b[-1] #extracting data from the lsb of blue pixel\n",
        "  # print(binary_data)\n",
        "  #split by 8 bits\n",
        "  all_bytes = [ binary_data[i: i+8] for i in range(0,len(binary_data),8)]\n",
        "  #convert from bits into characters\n",
        "  decoded_data = ''\n",
        "  for byte in all_bytes:\n",
        "    decoded_data += chr( int (byte,2))\n",
        "    if (decoded_data[-5:] == '#####'): #separoator reached\n",
        "      break\n",
        "  print(decoded_data)\n",
        "  return decoded_data[:-5]"
      ],
      "execution_count": null,
      "outputs": []
    },
    {
      "cell_type": "code",
      "metadata": {
        "id": "Gl-HsXUzMvLI"
      },
      "source": [
        "#encode data into image\n",
        "def encode_text():\n",
        "  watermark_image_name = input('Enter watermark image name(with extension): ')\n",
        "  image_name = input('Enter the image name(with extension): ')\n",
        "  secret_message = input(\"Enter Secret Message to be embedded : \")\n",
        "  image = cv2.imread(image_name)\n",
        "\n",
        "  print(\"The shape of the image is: \",image.shape)\n",
        "  print(\"The original image is as shown below: \")\n",
        "  resized_image = cv2.resize(image, (100, 100))\n",
        "  cv2_imshow(resized_image) #display the image\n",
        "\n",
        "  qr_img_path = generate_qr_code_with_image(encrypt_message(secret_message, public_key), watermark_image_name, \"qr_code_with_image.png\")\n",
        "  qr_img = cv2.imread(qr_img_path)\n",
        "  qr_resized = cv2.resize(qr_img, (100, 100))\n",
        "  cv2_imshow(qr_resized)\n",
        "\n",
        "  extracted_image_path, encrypted_message_base64_with_image = decode_qr_code_with_image(qr_img_path)\n",
        "  print(encrypted_message_base64_with_image)\n",
        "\n",
        "  if (len(encrypted_message_base64_with_image) == 0):\n",
        "    raise ValueError('Data is empty')\n",
        "\n",
        "  filename = input(\"Enter the name of new encoded image(with extension): \")\n",
        "  encoded_image = hideData(image, encrypted_message_base64_with_image) #embed\n",
        "  cv2.imwrite(filename, encoded_image)\n"
      ],
      "execution_count": null,
      "outputs": []
    },
    {
      "cell_type": "code",
      "metadata": {
        "id": "DjmdEeZvMvMt"
      },
      "source": [
        "#Decode the data in the image\n",
        "def decode_text():\n",
        "\n",
        "  image_name = input('Enter the name of the steganographed image that you want to decode (with extension): ')\n",
        "  image = cv2.imread(image_name)\n",
        "  watermark_image = cv2.imread(\"extracted_watermark_image.png\")\n",
        "  print(\"The Steganographed image is as shown below: \")\n",
        "  watermark_image = cv2.resize(watermark_image, (100, 100))\n",
        "  cv2_imshow(watermark_image) #display the Steganographed image\n",
        "  text = decrypt_message(showData(image),private_key)\n",
        "  return text"
      ],
      "execution_count": null,
      "outputs": []
    },
    {
      "cell_type": "code",
      "source": [
        "#Peak to noise ratio - compares quality of image\n",
        "def psnr(orig, watermarked):\n",
        "    mse = np.mean((orig - watermarked) ** 2)\n",
        "    if(mse == 0):\n",
        "        return 100\n",
        "    PIXEL_MAX = 255.0\n",
        "    return 20 * np.log10(PIXEL_MAX / np.sqrt(mse))"
      ],
      "metadata": {
        "id": "Gr_7NFK3DSlW"
      },
      "execution_count": null,
      "outputs": []
    },
    {
      "cell_type": "code",
      "source": [
        "#Normalized Cross-Correlation - compares the similarity between images\n",
        "def ncc(orig, stego):\n",
        "    mean_orig = np.mean(orig)\n",
        "    mean_stego = np.mean(stego)\n",
        "    norm_orig = orig - mean_orig\n",
        "    norm_stego = stego - mean_stego\n",
        "    ncc = (np.mean(norm_orig * norm_stego)) / (np.std(norm_orig) * np.std(norm_stego))\n",
        "    return ncc"
      ],
      "metadata": {
        "id": "eoh1sb98OktR"
      },
      "execution_count": null,
      "outputs": []
    },
    {
      "cell_type": "code",
      "metadata": {
        "id": "XglueX-eMvQ2",
        "colab": {
          "base_uri": "https://localhost:8080/"
        },
        "outputId": "7e1459c4-17b5-4aa1-90bb-31aa8f9e67dd"
      },
      "source": [
        "\n",
        "def LSB():\n",
        "    a = input(\"Digital Image Watermarking \\n 1. Embed the data \\n 2. Extract the data \\n Your input is: \")\n",
        "    userinput = int(a)\n",
        "    if (userinput == 1):\n",
        "      print(\"\\nEmbedding....\")\n",
        "      encode_text()\n",
        "\n",
        "    elif (userinput == 2):\n",
        "      print(\"\\nExtracting....\")\n",
        "      print(\"Decoded message is \" + decode_text())\n",
        "      image_name = cv2.imread(\"cat.jpg\")\n",
        "      encoded_image = cv2.imread(\"w_lsb.png\")\n",
        "      psnr_value = psnr(image_name, encoded_image)\n",
        "      print(f\"PSNR between original and LSB encoded image: {psnr_value:.2f} dB\")\n",
        "\n",
        "      ncc_value = ncc(image_name, encoded_image)\n",
        "      print(f\"NCC value is: {ncc_value:.4f}\")\n",
        "    else:\n",
        "        raise Exception(\"Enter correct input\")\n",
        "\n",
        "# Check if the key files already exist\n",
        "if not os.path.exists(PRIVATE_KEY_FILE_PATH) or not os.path.exists(PUBLIC_KEY_FILE_PATH):\n",
        "    # Generate and save RSA key pair if not already saved\n",
        "    print(\"KEYS DOES NOT EXIST\")\n",
        "    private_key, public_key = generate_and_save_rsa_key_pair()\n",
        "else:\n",
        "    # Load RSA key pair from disk\n",
        "    print(\"KEYS ALREADY EXIST\")\n",
        "    private_key, public_key = load_rsa_key_pair_from_disk()\n",
        "\n",
        "# Encrypt the message with the recipient's public key (recipient's public key should be known to the sender)\n",
        "recipient_public_key_pem = public_key.public_bytes(\n",
        "    encoding=serialization.Encoding.PEM,\n",
        "    format=serialization.PublicFormat.SubjectPublicKeyInfo\n",
        ").decode('utf-8')\n"
      ],
      "execution_count": null,
      "outputs": [
        {
          "output_type": "stream",
          "name": "stdout",
          "text": [
            "KEYS ALREADY EXIST\n"
          ]
        }
      ]
    },
    {
      "cell_type": "code",
      "source": [
        "LSB() #embed image"
      ],
      "metadata": {
        "colab": {
          "base_uri": "https://localhost:8080/",
          "height": 497
        },
        "id": "dHGVFkFrO5Y-",
        "outputId": "1db75618-54a2-4522-dba4-0be15c55b6a6"
      },
      "execution_count": null,
      "outputs": [
        {
          "output_type": "stream",
          "name": "stdout",
          "text": [
            "Digital Image Watermarking \n",
            " 1. Embed the data \n",
            " 2. Extract the data \n",
            " Your input is: 1\n",
            "\n",
            "Embedding....\n",
            "Enter watermark image name(with extension): watermark.jpg\n",
            "Enter the image name(with extension): cat.jpg\n",
            "Enter Secret Message to be embedded : Operation Nightfall: Commence covert infiltration of target location at 02:00 hours. Establish communication relay and await further instructions.\n",
            "The shape of the image is:  (354, 500, 3)\n",
            "The original image is as shown below: \n"
          ]
        },
        {
          "output_type": "display_data",
          "data": {
            "text/plain": [
              "<PIL.Image.Image image mode=RGB size=100x100>"
            ],
            "image/png": "[encoded data removed]"
          },
          "metadata": {}
        },
        {
          "output_type": "display_data",
          "data": {
            "text/plain": [
              "<PIL.Image.Image image mode=RGB size=100x100>"
            ],
            "image/png": "[encoded data removed]"
          },
          "metadata": {}
        },
        {
          "output_type": "stream",
          "name": "stdout",
          "text": [
            "MYsGpiMQh9CPKs6jLVxIA0+gbrVDmKnSgvzumIerVO42ai7wcDC2WOhi54MWP/Icp+yag1eYTx6o550oInpHNTkzjD7UxlUFEBhTdc19ZD+xFpCGTUY8cVL/Qp0Y0NZzX7iNI5kntvXbW48bW5ktlMsJ7+Ey+X9iYrC8YxE4U8pMtY/jZaqgWf3wBp0G/cDEhbxGOop9Ye7DWZTz77UfCnZ5PXalkwyDPAa1hhJMnpPSVWa0jMzIUPZXwTXEhuhUicK0jziJPiXtREatWFL1gPRnjyhtT+BBkNmVaKgf0k6t9SdDt8hhdFSblg4FoRR1YKPv0ArC3IF11mGBivfCLQ==\n",
            "Enter the name of new encoded image(with extension): w_lsb.png\n",
            "Maximum bytes to encode: 66375\n",
            "2792\n"
          ]
        }
      ]
    },
    {
      "cell_type": "code",
      "metadata": {
        "id": "DZPZN8y8HpK_",
        "colab": {
          "base_uri": "https://localhost:8080/",
          "height": 345
        },
        "outputId": "b6c910a2-6c1e-4cec-bed7-014caf14af65"
      },
      "source": [
        "LSB()#extract"
      ],
      "execution_count": null,
      "outputs": [
        {
          "output_type": "stream",
          "name": "stdout",
          "text": [
            "Digital Image Watermarking \n",
            " 1. Embed the data \n",
            " 2. Extract the data \n",
            " Your input is: 2\n",
            "\n",
            "Extracting....\n",
            "Enter the name of the steganographed image that you want to decode (with extension): w_lsb.png\n",
            "The Steganographed image is as shown below: \n"
          ]
        },
        {
          "output_type": "display_data",
          "data": {
            "text/plain": [
              "<PIL.Image.Image image mode=RGB size=100x100>"
            ],
            "image/png": "[encoded data removed]"
          },
          "metadata": {}
        },
        {
          "output_type": "stream",
          "name": "stdout",
          "text": [
            "MYsGpiMQh9CPKs6jLVxIA0+gbrVDmKnSgvzumIerVO42ai7wcDC2WOhi54MWP/Icp+yag1eYTx6o550oInpHNTkzjD7UxlUFEBhTdc19ZD+xFpCGTUY8cVL/Qp0Y0NZzX7iNI5kntvXbW48bW5ktlMsJ7+Ey+X9iYrC8YxE4U8pMtY/jZaqgWf3wBp0G/cDEhbxGOop9Ye7DWZTz77UfCnZ5PXalkwyDPAa1hhJMnpPSVWa0jMzIUPZXwTXEhuhUicK0jziJPiXtREatWFL1gPRnjyhtT+BBkNmVaKgf0k6t9SdDt8hhdFSblg4FoRR1YKPv0ArC3IF11mGBivfCLQ==#####\n",
            "Decoded message is Operation Nightfall: Commence covert infiltration of target location at 02:00 hours. Establish communication relay and await further instructions.\n",
            "PSNR between original and LSB encoded image: 73.85 dB\n",
            "NCC value is: 1.0000\n"
          ]
        }
      ]
    },
    {
      "cell_type": "markdown",
      "source": [
        "## DCT\n"
      ],
      "metadata": {
        "id": "p3pBGZyaXiHP"
      }
    },
    {
      "cell_type": "code",
      "source": [
        "from PIL import Image\n",
        "import numpy as np\n",
        "import itertools\n",
        "import types\n",
        "import cv2\n",
        "from cryptography.hazmat.primitives.ciphers import Cipher, algorithms, modes\n",
        "from cryptography.hazmat.backends import default_backend\n",
        "from cryptography.hazmat.primitives.kdf.pbkdf2 import PBKDF2HMAC\n",
        "from cryptography.hazmat.primitives import hashes\n",
        "import os\n",
        "import base64\n",
        "import qrcode\n",
        "import zxing\n",
        "from cryptography.hazmat.primitives import serialization\n",
        "from cryptography.hazmat.primitives.asymmetric import rsa\n",
        "from cryptography.hazmat.primitives.asymmetric import padding\n",
        "import ast\n",
        "\n",
        "\n",
        "import sys\n",
        "if not hasattr(sys, 'PY_SSIZE_T_CLEAN'):\n",
        "    sys.PY_SSIZE_T_CLEAN = 1\n",
        "\n",
        "# Quantization matrix for JPEG compression\n",
        "# Higher quality factor -> less lossy compression\n",
        "# makes image easier to encode\n",
        "quant = np.array([[16,11,10,16,24,40,51,61],\n",
        "                    [12,12,14,19,26,58,60,55],\n",
        "                    [14,13,16,24,40,57,69,56],\n",
        "                    [14,17,22,29,51,87,80,62],\n",
        "                    [18,22,37,56,68,109,103,77],\n",
        "                    [24,35,55,64,81,104,113,92],\n",
        "                    [49,64,78,87,103,121,120,101],\n",
        "                    [72,92,95,98,112,100,103,99]])\n",
        "\n",
        "class DiscreteCosineTransform:\n",
        "\n",
        "    def __init__(self):\n",
        "        self.message = None\n",
        "        self.bitMessage = None #binary of secret message\n",
        "        self.oriCol = 0 #number of columns in input image\n",
        "        self.oriRow = 0 #number of rows in input image\n",
        "        self.numBits = 0 #number of binary bits in secret message\n",
        "\n",
        "\n",
        "    #split data into chunks\n",
        "    def chunks(self,l,n):\n",
        "        m = int(n)\n",
        "        for i in range(0,len(l),m):\n",
        "            yield l[i:i+m]\n",
        "\n",
        "    #add padding to make the function dividable by 8x8 blocks\n",
        "    def addPadd(self,img,row,col):\n",
        "        img = cv2.resize(img,(col+(8-col%8),row+(8-row%8)))\n",
        "        return img\n",
        "\n",
        "    #text to bits\n",
        "    def toBits(self):\n",
        "        bits = []\n",
        "        for char in self.message:\n",
        "            binval = bin(ord(char))[2:].rjust(8, '0')\n",
        "            #print('bin '+binval)\n",
        "            bits.append(binval)\n",
        "        self.numBits = bin(len(bits))[2:].rjust(8,'0')\n",
        "        return bits\n",
        "\n",
        "\n",
        "    def DCTEncoder(self,img,secret):\n",
        "        self.message = str(len(secret)) + '*' + secret\n",
        "        self.bitMessage = [str(bit) for bit in self.toBits()]\n",
        "\n",
        "        row, col = img.shape[:2]\n",
        "        self.oriRow = row\n",
        "        self.oriCol = col\n",
        "\n",
        "        #check if message is too large to embed in image\n",
        "        if((col/8)*(row/8)<len(secret)):\n",
        "            print(\"Error: Message too large to embedd in image\")\n",
        "            return False\n",
        "\n",
        "        #add padding\n",
        "        if(row%8!=0 or col%8!=0):\n",
        "            img = self.addPadd(img,row,col)\n",
        "        row,col = img.shape[:2]\n",
        "\n",
        "        #split image into RGB channels\n",
        "        bImg,gImg,rImg = cv2.split(img)\n",
        "\n",
        "        #message to be hide in blue channel so converted to type float32 for dct function\n",
        "        bImg = np.float32(bImg)\n",
        "\n",
        "        #breaking the image into 8x8 blocks\n",
        "        imgBlocks = [np.round(bImg[j:j+8,i:i+8]-128) for (j,i) in itertools.product(range(0,row,8),range(0,col,8))]\n",
        "\n",
        "        #print(imgBlocks[0])\n",
        "        #apply dct to each blocks\n",
        "        dctBlocks = [np.round(cv2.dct(ib)) for ib in imgBlocks]\n",
        "\n",
        "        #apply quantization to each block and obtain quant coefficients\n",
        "        quantDCT = [np.round(dbk/quant) for dbk in dctBlocks]\n",
        "\n",
        "        #set LSB in DC value [low freq] corresponding bit of message\n",
        "        messIndex=0\n",
        "        letterIndex=0\n",
        "\n",
        "        for qb in quantDCT:\n",
        "            #find LSB in DCT cofficient and replace it with message bit\n",
        "            DC = qb[0][0]\n",
        "            DC = np.uint8(DC)\n",
        "            DC = np.unpackbits(DC)\n",
        "            DC[7] = self.bitMessage[messIndex][letterIndex] #encode\n",
        "            DC = np.packbits(DC)\n",
        "            DC = np.float32(DC)\n",
        "            DC = DC - 255\n",
        "            qb[0][0] = DC\n",
        "            letterIndex = letterIndex + 1\n",
        "            if (letterIndex == 8):\n",
        "                letterIndex = 0\n",
        "                messIndex = messIndex + 1\n",
        "                if (messIndex == len(self.message)):\n",
        "                    break\n",
        "\n",
        "        #inverse quantization\n",
        "        sImgBlocks = [quantizedBlock *quant+128 for quantizedBlock in quantDCT]\n",
        "\n",
        "       #reconsruct the image\n",
        "        sImg=[]\n",
        "        for chunkRowBlocks in self.chunks(sImgBlocks, col/8):\n",
        "            for rowBlockNum in range(8):\n",
        "                for block in chunkRowBlocks:\n",
        "                    sImg.extend(block[rowBlockNum])\n",
        "\n",
        "        sImg = np.array(sImg).reshape(row, col)\n",
        "\n",
        "        sImg = np.uint8(sImg)\n",
        "\n",
        "        #generate final image\n",
        "        sImg = cv2.merge((sImg,gImg,rImg))\n",
        "        return sImg\n",
        "\n",
        "    def DCTDecoder(self, img):\n",
        "      row, col = img.shape[:2]\n",
        "      messSize = None\n",
        "      messageBits = []\n",
        "      buff = 0\n",
        "\n",
        "      # split the image into RGB channels\n",
        "      bImg, gImg, rImg = cv2.split(img)\n",
        "\n",
        "      # message hid in the blue channel so converted to type float32 for dct function\n",
        "      bImg = np.float32(bImg)\n",
        "\n",
        "      # break into 8x8 blocks\n",
        "      imgBlocks = [bImg[j:j + 8, i:i + 8] - 128 for (j, i) in itertools.product(range(0, row, 8), range(0, col, 8))]\n",
        "      quantDCT = [ib / quant for ib in imgBlocks]\n",
        "      i = 0\n",
        "      flag = 0\n",
        "      nb = '' #stores decoded bits\n",
        "      for qb in quantDCT:\n",
        "          DC = qb[0][0]\n",
        "          DC = np.uint8(DC)\n",
        "          DC = np.unpackbits(DC)\n",
        "          if flag == 0:\n",
        "              if DC[7] == 1:\n",
        "                  buff += (0 & 1) << (7 - i)\n",
        "              elif DC[7] == 0:\n",
        "                  buff += (1 & 1) << (7 - i)\n",
        "          else:\n",
        "              if DC[7] == 1:\n",
        "                  nb += '0'\n",
        "              elif DC[7] == 0:\n",
        "                  nb += '1'\n",
        "          i = 1 + i\n",
        "          if i == 8:\n",
        "              if flag == 0:\n",
        "                  #done embedding\n",
        "                  messageBits.append(buff)\n",
        "                  buff = 0\n",
        "              else:\n",
        "                  #done decoding\n",
        "                  messageBits.append(nb)\n",
        "                  nb = ''\n",
        "              i = 0\n",
        "              if messageBits[-1] == 42 and messSize is None:\n",
        "                  try:\n",
        "                      flag = 1\n",
        "                      messSize = int(str(chr(messageBits[0])) + str(chr(messageBits[1])))\n",
        "                  except:\n",
        "                      pass\n",
        "          if len(messageBits) - len(str(messSize)) - 1 == messSize:\n",
        "              return messageBits\n",
        "\n",
        "      # inverse quantization\n",
        "      sImgBlocks = [qb * quant + 128 for qb in quantDCT]\n",
        "      sImg = []\n",
        "\n",
        "      #generate image\n",
        "      for chunkRowBlocks in self.chunks(sImgBlocks, col / 8):\n",
        "          for rowBlockNum in range(8):\n",
        "              for block in chunkRowBlocks:\n",
        "                  sImg.extend(block[rowBlockNum])\n",
        "      sImg = np.array(sImg).reshape(row, col)\n",
        "      sImg = np.uint8(sImg)\n",
        "      sImg = cv2.merge((sImg, gImg, rImg))\n",
        "      return messageBits\n",
        "\n",
        "def aes_encrypt(message, key):\n",
        "    # Pad the message to be a multiple of 16 bytes\n",
        "    if len(message) % 16 != 0:\n",
        "        message += ' ' * (16 - len(message) % 16)\n",
        "\n",
        "    # Create a cipher object using the key\n",
        "    cipher = Cipher(algorithms.AES(key), modes.ECB(), backend=default_backend())\n",
        "    encryptor = cipher.encryptor()\n",
        "\n",
        "    # Encrypt the message\n",
        "    enc_msg = encryptor.update(message.encode()) + encryptor.finalize()\n",
        "    return enc_msg\n",
        "\n",
        "def aes_decrypt(ctext, key):\n",
        "    # Create a cipher object using the key\n",
        "    cipher = Cipher(algorithms.AES(key), modes.ECB(), backend=default_backend())\n",
        "    decryptor = cipher.decryptor()\n",
        "\n",
        "    # Decrypt the message\n",
        "    dec_msg = decryptor.update(ctext) + decryptor.finalize()\n",
        "    return dec_msg.decode().rstrip()\n",
        "\n",
        "def base64_to_image(base64_str, output_path):\n",
        "    image_bytes = base64.b64decode(base64_str)\n",
        "    image_nparr = np.frombuffer(image_bytes, np.uint8)\n",
        "    image = cv2.imdecode(image_nparr, cv2.IMREAD_COLOR)\n",
        "    cv2.imwrite(output_path, image)\n",
        "\n",
        "    img_resized = cv2.resize(image, (100, 100))\n",
        "    cv2_imshow(img_resized)\n",
        "    print(\"Watermark Data\")\n",
        "\n",
        "    return output_path\n",
        "\n",
        "def image_to_base64(img_path, resize_dim=(25, 25)):\n",
        "    image = cv2.imread(img_path)\n",
        "    image_resized = cv2.resize(image, resize_dim)\n",
        "\n",
        "    _, buffer = cv2.imencode('.jpg', image_resized)\n",
        "    image_base64 = base64.b64encode(buffer).decode('utf-8')\n",
        "\n",
        "    return image_base64\n",
        "\n",
        "def generate_qr_code_with_image(message, image_path, filename):\n",
        "    image_base64 = image_to_base64(image_path)\n",
        "    combined_data = image_base64 + \"|||\" + message  # Use a separator to differentiate the image and message\n",
        "    return generate_qr_code(combined_data, filename)\n",
        "\n",
        "# create a QR code from a message\n",
        "def generate_qr_code(message, filename):\n",
        "    qr = qrcode.QRCode(\n",
        "        version=None,\n",
        "        error_correction=qrcode.constants.ERROR_CORRECT_L,\n",
        "        box_size=10,\n",
        "        border=4,\n",
        "    )\n",
        "    qr.add_data(message)\n",
        "    qr.make(fit=True)\n",
        "    qr_img_path = filename\n",
        "    qr_img = qr.make_image(fill_color=\"black\", back_color=\"white\")\n",
        "    qr_img.save(qr_img_path)\n",
        "    return qr_img_path\n",
        "\n",
        "def decode_qr_with_zxing(image_path):\n",
        "    reader = zxing.BarCodeReader()\n",
        "    barcode = reader.decode(image_path)\n",
        "    if barcode is not None:\n",
        "        return barcode.raw\n",
        "    return None\n",
        "\n",
        "def decode_qr_code_with_image(filename):\n",
        "    decoded_data = decode_qr_with_zxing(filename)\n",
        "    # print(decoded_data.count(\"|||\"))\n",
        "    if \"|||\" not in decoded_data:\n",
        "        raise ValueError(\"The decoded data does not contain the expected separator.\")\n",
        "    image_base64, encrypted_message = decoded_data.split(\"|||\")  # Use the separator to split the data\n",
        "    image_path = base64_to_image(image_base64, f\"extracted_watermark_{filename}.png\")\n",
        "    return image_path, encrypted_message\n",
        "\n",
        "def psnr(orig, watermarked):\n",
        "    mse = np.mean((orig - watermarked) ** 2)\n",
        "    if(mse == 0):\n",
        "        return 100\n",
        "    PIXEL_MAX = 255.0\n",
        "    return 20 * np.log10(PIXEL_MAX / np.sqrt(mse))\n",
        "\n",
        "def ncc(orig, stego):\n",
        "    mean_orig = np.mean(orig)\n",
        "    mean_stego = np.mean(stego)\n",
        "    norm_orig = orig - mean_orig\n",
        "    norm_stego = stego - mean_stego\n",
        "    ncc = (np.mean(norm_orig * norm_stego)) / (np.std(norm_orig) * np.std(norm_stego))\n",
        "    return ncc\n",
        "\n",
        "salt = os.urandom(16)\n",
        "kdf = PBKDF2HMAC(\n",
        "    algorithm=hashes.SHA256(),\n",
        "    length=16,  # 16 bytes for AES-128\n",
        "    salt=salt,\n",
        "    iterations=100000,\n",
        "    backend=default_backend()\n",
        ")\n",
        "\n",
        "watermark_img_name = input(\"Enter Watermark Image Name: \")\n",
        "img_name = input(\"Enter Image Name: \")\n",
        "\n",
        "image = cv2.imread(img_name,cv2.IMREAD_UNCHANGED)\n",
        "img_resize = cv2.resize(image, (100, 100))\n",
        "cv2_imshow(img_resize)\n",
        "\n",
        "watermark_image = cv2.imread(watermark_img_name,cv2.IMREAD_UNCHANGED)\n",
        "wm_resize = cv2.resize(watermark_image, (100, 100))\n",
        "cv2_imshow(wm_resize)\n",
        "\n",
        "secret_msg = input(\"Secret Message: \")\n",
        "\n",
        "secret_msg_bytes = secret_msg.encode()\n",
        "key = kdf.derive(secret_msg_bytes)\n",
        "encrypted_msg_bytes = aes_encrypt(secret_msg, key)\n",
        "encrypted_msg = str(aes_encrypt(secret_msg, key))\n",
        "\n",
        "# print('AES MSG BYTES: ',encrypted_msg_bytes)\n",
        "\n",
        "qr_img_path = generate_qr_code_with_image(encrypted_msg, watermark_img_name, f\"qr_code_of_{img_name}_DCT.png\")\n",
        "qr_img = cv2.imread(qr_img_path)\n",
        "qr_resized = cv2.resize(qr_img, (100, 100))\n",
        "cv2_imshow(qr_resized)\n",
        "\n",
        "extracted_image_path, encrypted_message_base64_with_image = decode_qr_code_with_image(qr_img_path)\n",
        "\n",
        "# print(encrypted_msg)\n",
        "d = DiscreteCosineTransform()\n",
        "\"\"\"sm = str(enc_msg)\n",
        "sm = sm[1:]\n",
        "print('sm',sm)\"\"\"\n",
        "dct_img_encoded = d.DCTEncoder(image, encrypted_message_base64_with_image)\n",
        "cv2.imwrite(f'watermarked_{img_name}_DCT.png',dct_img_encoded)\n",
        "eimg = cv2.imread(f'watermarked_{img_name}_DCT.png',cv2.IMREAD_UNCHANGED)\n",
        "\n",
        "text = d.DCTDecoder(eimg)\n",
        "ntext = []\n",
        "# print(\"Text by DCTDecoder: \",text)\n",
        "for i in range(len(text)):\n",
        "    if(type(text[i]) == str):\n",
        "        ntext.append(text[i])\n",
        "\n",
        "decoded_data = b''\n",
        "for byte in ntext:\n",
        "    try:\n",
        "        byte_value = int(byte, 2)\n",
        "        decoded_data += byte_value.to_bytes((byte_value.bit_length() + 7) // 8, byteorder='big')\n",
        "    except Exception as e:\n",
        "        # Handle exceptions if needed\n",
        "        break\n",
        "# print(decoded_data)\n",
        "\n",
        "bytes_value = ast.literal_eval(decoded_data.decode())\n",
        "\n",
        "dtext = aes_decrypt(bytes_value, key)\n",
        "\n",
        "print(\"Decoded message is \"+dtext)\n",
        "\n",
        "resized = cv2.resize(dct_img_encoded, (image.shape[1], image.shape[0]))\n",
        "psnr_value = psnr(image, resized)\n",
        "print(f\"PSNR between original and DCT encoded image: {psnr_value:.2f} dB\")\n",
        "\n",
        "ncc_value = ncc(image, resized)\n",
        "print(f\"NCC value is: {ncc_value:.4f}\")\n"
      ],
      "metadata": {
        "id": "415LtvX9EKj9",
        "colab": {
          "base_uri": "https://localhost:8080/",
          "height": 538
        },
        "outputId": "43cd5e4d-83ff-4e9a-db55-b4e3f8319ee8"
      },
      "execution_count": 41,
      "outputs": [
        {
          "name": "stdout",
          "output_type": "stream",
          "text": [
            "Enter Watermark Image Name: watermark.jpg\n",
            "Enter Image Name: cat.jpg\n"
          ]
        },
        {
          "output_type": "display_data",
          "data": {
            "text/plain": [
              "<PIL.Image.Image image mode=RGB size=100x100>"
            ],
            "image/png": "[encoded data removed]"
          },
          "metadata": {}
        },
        {
          "output_type": "display_data",
          "data": {
            "text/plain": [
              "<PIL.Image.Image image mode=RGB size=100x100>"
            ],
            "image/png": "[encoded data removed]"
          },
          "metadata": {}
        },
        {
          "name": "stdout",
          "output_type": "stream",
          "text": [
            "Secret Message: ATtack\n"
          ]
        },
        {
          "output_type": "display_data",
          "data": {
            "text/plain": [
              "<PIL.Image.Image image mode=RGB size=100x100>"
            ],
            "image/png": "[encoded data removed]"
          },
          "metadata": {}
        },
        {
          "output_type": "display_data",
          "data": {
            "text/plain": [
              "<PIL.Image.Image image mode=RGB size=100x100>"
            ],
            "image/png": "[encoded data removed]"
          },
          "metadata": {}
        },
        {
          "output_type": "stream",
          "name": "stdout",
          "text": [
            "Watermark Data\n",
            "Decoded message is ATtack\n",
            "PSNR between original and DCT encoded image: 31.88 dB\n",
            "NCC value is: 0.7483\n"
          ]
        }
      ]
    },
    {
      "cell_type": "markdown",
      "source": [
        "## DWT"
      ],
      "metadata": {
        "id": "qklQzpnJ5wfu"
      }
    },
    {
      "cell_type": "code",
      "source": [
        "import cv2\n",
        "import numpy as np\n",
        "import pywt\n",
        "import base64\n",
        "import qrcode\n",
        "import zxing\n",
        "import os\n",
        "from cryptography.hazmat.primitives import hashes\n",
        "from cryptography.hazmat.backends import default_backend\n",
        "from cryptography.hazmat.primitives import serialization\n",
        "from cryptography.hazmat.primitives.ciphers import Cipher, algorithms, modes\n",
        "from cryptography.hazmat.primitives.asymmetric import rsa\n",
        "from cryptography.hazmat.primitives.kdf.pbkdf2 import PBKDF2HMAC\n",
        "from google.colab.patches import cv2_imshow\n",
        "\n",
        "def text_to_bin(text):\n",
        "    return ''.join(format(ord(c), '08b') for c in text)\n",
        "\n",
        "def bin_to_text(binary):\n",
        "    text = ''.join(chr(int(binary[i:i+8], 2)) for i in range(0, len(binary), 8))\n",
        "    return text\n",
        "\n",
        "def embed_text_in_channel(channel, text):\n",
        "    n_bits = len(text)\n",
        "    index = 0\n",
        "\n",
        "    coeffs = pywt.dwt2(channel, 'haar')\n",
        "    LL, (LH, HL, HH) = coeffs\n",
        "\n",
        "    # embedd in lower freq\n",
        "    for i in range(LL.shape[0]):\n",
        "        for j in range(LL.shape[1]):\n",
        "            if index < n_bits:\n",
        "                pixel = LL[i, j]\n",
        "                pixel = int(pixel) & ~1 | int(text[index])\n",
        "                LL[i, j] = pixel\n",
        "                index += 1\n",
        "\n",
        "    coeffs = LL, (LH, HL, HH)\n",
        "    return pywt.idwt2(coeffs, 'haar')\n",
        "\n",
        "def embed_text(image, text):\n",
        "    R, G, B = cv2.split(image)\n",
        "    embedded_R = embed_text_in_channel(R, text)\n",
        "    embedded_G = embed_text_in_channel(G, text)\n",
        "    embedded_B = embed_text_in_channel(B, text)\n",
        "    return cv2.merge((embedded_R, embedded_G, embedded_B))\n",
        "\n",
        "def extract_text_from_channel(channel, length):\n",
        "    coeffs = pywt.dwt2(channel, 'haar')\n",
        "    LL, _ = coeffs\n",
        "\n",
        "    binary = ''\n",
        "    for i in range(LL.shape[0]):\n",
        "        for j in range(LL.shape[1]):\n",
        "            if len(binary) < length:\n",
        "                binary += str(int(LL[i, j]) & 1)\n",
        "\n",
        "    return binary\n",
        "\n",
        "def aes_encrypt(message, key):\n",
        "    # Pad the message to be a multiple of 16 bytes\n",
        "    if len(message) % 16 != 0:\n",
        "        message += ' ' * (16 - len(message) % 16)\n",
        "\n",
        "    # Create a cipher object using the key\n",
        "    cipher = Cipher(algorithms.AES(key), modes.ECB(), backend=default_backend())\n",
        "    encryptor = cipher.encryptor()\n",
        "\n",
        "    # Encrypt the message\n",
        "    enc_msg = encryptor.update(message.encode()) + encryptor.finalize()\n",
        "    return enc_msg\n",
        "\n",
        "def aes_decrypt(ctext, key):\n",
        "    # Create a cipher object using the key\n",
        "    cipher = Cipher(algorithms.AES(key), modes.ECB(), backend=default_backend())\n",
        "    decryptor = cipher.decryptor()\n",
        "\n",
        "    # Decrypt the message\n",
        "    dec_msg = decryptor.update(ctext) + decryptor.finalize()\n",
        "    return dec_msg.decode().rstrip()\n",
        "\n",
        "def extract_text(image, length):\n",
        "    R, G, B = cv2.split(image)\n",
        "    binary_text = extract_text_from_channel(R, length)\n",
        "    return bin_to_text(binary_text)\n",
        "\n",
        "def base64_to_image(base64_str, output_path):\n",
        "    image_bytes = base64.b64decode(base64_str)\n",
        "    image_nparr = np.frombuffer(image_bytes, np.uint8)\n",
        "    image = cv2.imdecode(image_nparr, cv2.IMREAD_COLOR)\n",
        "    cv2.imwrite(output_path, image)\n",
        "    return output_path\n",
        "\n",
        "def image_to_base64(img_path, resize_dim=(25, 25)):\n",
        "    # Read and resize the image\n",
        "    image = cv2.imread(img_path)\n",
        "    image_resized = cv2.resize(image, resize_dim)\n",
        "\n",
        "    # Convert the image to base64\n",
        "    _, buffer = cv2.imencode('.jpg', image_resized)\n",
        "    image_base64 = base64.b64encode(buffer).decode('utf-8')\n",
        "\n",
        "    return image_base64\n",
        "\n",
        "def generate_qr_code_with_image(message, image_path, filename):\n",
        "    image_base64 = image_to_base64(image_path)\n",
        "    combined_data = image_base64 + \"|||\" + message  # Use a separator to differentiate the image and message\n",
        "    return generate_qr_code(combined_data, filename)\n",
        "\n",
        "# Function to create a QR code from a message\n",
        "def generate_qr_code(message, filename):\n",
        "    qr = qrcode.QRCode(\n",
        "        version=None,\n",
        "        error_correction=qrcode.constants.ERROR_CORRECT_L,\n",
        "        box_size=10,\n",
        "        border=4,\n",
        "    )\n",
        "    qr.add_data(message)\n",
        "    qr.make(fit=True)\n",
        "    qr_img_path = filename\n",
        "    qr_img = qr.make_image(fill_color=\"black\", back_color=\"white\")\n",
        "    qr_img.save(qr_img_path)\n",
        "    return qr_img_path\n",
        "\n",
        "def decode_qr_with_zxing(image_path):\n",
        "    reader = zxing.BarCodeReader()\n",
        "    barcode = reader.decode(image_path)\n",
        "    if barcode is not None:\n",
        "        return barcode.raw\n",
        "    return None\n",
        "\n",
        "def decode_qr_code_with_image(filename):\n",
        "    decoded_data = decode_qr_with_zxing(filename)\n",
        "    # print(decoded_data.count(\"|||\"))\n",
        "    if \"|||\" not in decoded_data:\n",
        "        raise ValueError(\"The decoded data does not contain the expected separator.\")\n",
        "    image_base64, encrypted_message = decoded_data.split(\"|||\")  # Use the separator to split the data\n",
        "    image_path = base64_to_image(image_base64, f\"extracted_watermark_{filename}.png\")\n",
        "    return image_path, encrypted_message\n",
        "\n",
        "def psnr(orig, watermarked):\n",
        "    mse = np.mean((orig - watermarked) ** 2)\n",
        "    if(mse == 0):\n",
        "        return 100\n",
        "    PIXEL_MAX = 255.0\n",
        "    return 20 * np.log10(PIXEL_MAX / np.sqrt(mse))\n",
        "\n",
        "def ncc(orig, stego):\n",
        "    mean_orig = np.mean(orig)\n",
        "    mean_stego = np.mean(stego)\n",
        "    norm_orig = orig - mean_orig\n",
        "    norm_stego = stego - mean_stego\n",
        "    ncc = (np.mean(norm_orig * norm_stego)) / (np.std(norm_orig) * np.std(norm_stego))\n",
        "    return ncc\n",
        "\n",
        "salt = os.urandom(16) # for better security\n",
        "kdf = PBKDF2HMAC(\n",
        "    algorithm=hashes.SHA256(),\n",
        "    length=16,  # 16 bytes for AES-128\n",
        "    salt=salt,\n",
        "    iterations=100000,\n",
        "    backend=default_backend()\n",
        ")\n",
        "\n",
        "wmark_img_name = input(\"Enter Watermark Image: \")\n",
        "watermark_img = cv2.imread(wmark_img_name)\n",
        "\n",
        "img_name = input(\"Enter Image: \")\n",
        "_img = cv2.imread(img_name)\n",
        "\n",
        "img_resize = cv2.resize(_img, (100, 100))\n",
        "cv2_imshow(img_resize)\n",
        "\n",
        "wm_resize = cv2.resize(watermark_img, (100, 100))\n",
        "cv2_imshow(wm_resize)\n",
        "\n",
        "secret_message = input(\"Enter Secret Message: \")\n",
        "secret_msg_bytes = secret_message.encode()\n",
        "key = kdf.derive(secret_msg_bytes)\n",
        "encrypted_msg_bytes = aes_encrypt(secret_message, key)\n",
        "encrypted_msg = str(aes_encrypt(secret_message, key))\n",
        "\n",
        "qr_img_path= generate_qr_code_with_image(encrypted_msg,wmark_img_name,f\"qr_code_of_{img_name}_DWT.png\")\n",
        "qr_img = cv2.imread(qr_img_path)\n",
        "qr_resized = cv2.resize(qr_img, (100, 100))\n",
        "cv2_imshow(qr_resized)\n",
        "\n",
        "extracted_image_path, encrypted_message_base64_with_image = decode_qr_code_with_image(qr_img_path)\n",
        "\n",
        "binary_text = text_to_bin(encrypted_message_base64_with_image)\n",
        "\n",
        "embedded_image = embed_text(_img, binary_text)\n",
        "output_path = f\"watermarked_{img_name}_DWT.jpg\"\n",
        "cv2.imwrite(output_path, embedded_image)\n",
        "\n",
        "extracted_binary_length = len(binary_text)\n",
        "extracted_text = extract_text(embedded_image, extracted_binary_length)\n",
        "\n",
        "extracted_image_path, encrypted_message_base64_with_image = decode_qr_code_with_image(qr_img_path)\n",
        "\n",
        "decrypted_message = aes_decrypt(encrypted_msg_bytes, key)\n",
        "\n",
        "print(\"Decoded message is \"+decrypted_message)\n",
        "\n",
        "psnr_value = psnr(_img, embedded_image)\n",
        "print(f\"PSNR value between original and watermarked image: {psnr_value:.2f} dB\")\n",
        "\n",
        "ncc_value = ncc(_img, embedded_image)\n",
        "print(f\"NCC value is: {ncc_value:.4f}\")"
      ],
      "metadata": {
        "colab": {
          "base_uri": "https://localhost:8080/",
          "height": 421
        },
        "id": "8q0-nDpIi3pV",
        "outputId": "b269e91f-bd9a-4797-d83b-0bc0bc23f8d0"
      },
      "execution_count": 40,
      "outputs": [
        {
          "name": "stdout",
          "output_type": "stream",
          "text": [
            "Enter Watermark Image: watermark.jpg\n",
            "Enter Image: cat.jpg\n"
          ]
        },
        {
          "output_type": "display_data",
          "data": {
            "text/plain": [
              "<PIL.Image.Image image mode=RGB size=100x100>"
            ],
            "image/png": "[encoded data removed]"
          },
          "metadata": {}
        },
        {
          "output_type": "display_data",
          "data": {
            "text/plain": [
              "<PIL.Image.Image image mode=RGB size=100x100>"
            ],
            "image/png": "[encoded data removed]"
          },
          "metadata": {}
        },
        {
          "name": "stdout",
          "output_type": "stream",
          "text": [
            "Enter Secret Message: Attck\n"
          ]
        },
        {
          "output_type": "display_data",
          "data": {
            "text/plain": [
              "<PIL.Image.Image image mode=RGB size=100x100>"
            ],
            "image/png": "[encoded data removed]"
          },
          "metadata": {}
        },
        {
          "output_type": "stream",
          "name": "stdout",
          "text": [
            "Decoded message is Attck\n",
            "PSNR value between original and watermarked image: 77.44 dB\n",
            "NCC value is: 1.0000\n"
          ]
        }
      ]
    },
    {
      "cell_type": "code",
      "source": [],
      "metadata": {
        "id": "43ZirrMUi6OD"
      },
      "execution_count": null,
      "outputs": []
    }
  ]
}